{
 "cells": [
  {
   "cell_type": "markdown",
   "id": "a4807f7f",
   "metadata": {},
   "source": [
    "# Classification Model to predict Diabetes\n",
    "\n",
    "**Logistic Regression, Cross entropy and Gradient Descent**\n",
    "\n",
    "Diabetes is a life style disease affecting lot of people today. Given age, we will build a model to predict if a person will have diabetes or not. In real life, we will need more variables like glucose level, insulin resistance etc., to do this prediction correctly. \n",
    "\n",
    "The problem is to identify the right category/class a person belongs to given the inputs. The prediction/output is a categorical variable, so this method is known as classification. We have just two categories (yes/no) in this case, the method is known as binary classification. \n",
    "\n",
    "Plan:\n",
    "\n",
    "1. Define a toy dataset (data based approach)\n",
    "2. Introduce Logistic Regression model, sigmoid function\n",
    "3. Introduct Cross-Entropy loss function\n",
    "4. Use Gradient descent for optimization"
   ]
  },
  {
   "cell_type": "code",
   "execution_count": 1,
   "id": "8c4e243f",
   "metadata": {},
   "outputs": [],
   "source": [
    "# Create the toy dataset\n",
    "X = [10, 20, 25, 35, 21, 54, 68, 75, 20, 80] # Age of the person\n",
    "y = [0, 0, 0, 1, 0, 1, 0, 1, 0, 1]            # 0 - No diabetes, 1 - Has diabetes"
   ]
  },
  {
   "cell_type": "code",
   "execution_count": 2,
   "id": "9946827d",
   "metadata": {},
   "outputs": [],
   "source": [
    "# Few python package imports\n",
    "\n",
    "import numpy as np\n",
    "import matplotlib.pyplot as plt\n",
    "%matplotlib inline"
   ]
  },
  {
   "cell_type": "code",
   "execution_count": 3,
   "id": "7fd03471",
   "metadata": {},
   "outputs": [],
   "source": [
    "# Convert to numpy arrays\n",
    "X = np.array(X)\n",
    "y = np.array(y)"
   ]
  },
  {
   "cell_type": "code",
   "execution_count": 4,
   "id": "3f681a08",
   "metadata": {},
   "outputs": [
    {
     "data": {
      "image/png": "[encoded data removed]",
      "text/plain": [
       "<Figure size 432x288 with 1 Axes>"
      ]
     },
     "metadata": {
      "needs_background": "light"
     },
     "output_type": "display_data"
    }
   ],
   "source": [
    "# People with diabetes are shown in red, and others are in green\n",
    "def plot_data():\n",
    "    # Find all indices where y is 0.\n",
    "    idx_0 = np.where(y==0)\n",
    "    idx_1 = np.where(y==1)\n",
    "    plt.scatter(X[idx_0], y[idx_0], color='green')\n",
    "    plt.scatter(X[idx_1], y[idx_1], color='red')\n",
    "    plt.title('Diabetes Plot')\n",
    "    plt.xlabel('Age')\n",
    "    plt.ylabel('Has Diabetes?')\n",
    "\n",
    "plot_data()"
   ]
  },
  {
   "cell_type": "markdown",
   "id": "a2ac70e1",
   "metadata": {},
   "source": [
    "Our data shows that some people are not diabetic even in old age. On the other hand, it is possible to be a diabetic even at an younger age. It will be difficult to handcode a rule to learn this phenomenon. We will try and build a model."
   ]
  },
  {
   "cell_type": "markdown",
   "id": "c9aeebfd",
   "metadata": {},
   "source": [
    "## We need sigmoid\n",
    "\n",
    "If you look at the output variable it is categorical, and has distinct values. It is either 0 or 1. \n",
    "\n",
    "If you remember, when we trained regression model (y=w.x), we adjusted the value of 'w' until the value of y from the model (yhat) got close to the actual value (y). \n",
    "\n",
    "In the classification case though, we can't use the output of y=wx directly and we have to squash it somehow to bring it closer to either 0 or 1. (classification outputs). This is actually done by this function sigmoid."
   ]
  },
  {
   "cell_type": "markdown",
   "id": "4ceb6d65",
   "metadata": {},
   "source": [
    "The sigmoid function is : $s(x)= \\frac {1}{1+e^{-x}}$\n",
    "\n",
    "Our model is $y=wx+b$ So, after applying sigmoid, model becomes: $s(x)= \\frac {1}{1+e^{-wx+b}}$"
   ]
  },
  {
   "cell_type": "code",
   "execution_count": 5,
   "id": "f370820b",
   "metadata": {},
   "outputs": [],
   "source": [
    "# Now let's implement sigmoid \n",
    "def sigmoid(z):\n",
    "    return 1.0/(1 + np.exp(-z))"
   ]
  },
  {
   "cell_type": "code",
   "execution_count": 6,
   "id": "0e700013",
   "metadata": {},
   "outputs": [
    {
     "data": {
      "text/plain": [
       "Text(0, 0.5, 'Sigmoid value')"
      ]
     },
     "execution_count": 6,
     "metadata": {},
     "output_type": "execute_result"
    },
    {
     "data": {
      "image/png": "[encoded data removed]",
      "text/plain": [
       "<Figure size 432x288 with 1 Axes>"
      ]
     },
     "metadata": {
      "needs_background": "light"
     },
     "output_type": "display_data"
    }
   ],
   "source": [
    "# Draw the sigmoid function\n",
    "zs = []\n",
    "sigs = []\n",
    "for z in np.linspace(-10, 10, 100):\n",
    "    zs.append(z)\n",
    "    sigs.append(sigmoid(z))\n",
    "    \n",
    "plt.scatter(zs, sigs)\n",
    "plt.title(\"Sigmoid Function\")\n",
    "plt.xlabel('Z')\n",
    "plt.ylabel('Sigmoid value')"
   ]
  },
  {
   "cell_type": "markdown",
   "id": "668ac0e7",
   "metadata": {},
   "source": [
    "As you can see, sigmoid squashes any numbers between [0 1]. Large negative numbers are squashed to 0, while large positive ones are squashed to 1."
   ]
  },
  {
   "cell_type": "code",
   "execution_count": 7,
   "id": "c23f9878",
   "metadata": {},
   "outputs": [
    {
     "name": "stdout",
     "output_type": "stream",
     "text": [
      "Sigmoid of zero : 0.5 \n",
      "Sigmoid of 1 : 0.7310585786300049 \n",
      "Sigmoid of -1 : 0.2689414213699951 \n"
     ]
    }
   ],
   "source": [
    "# Sigmoid of some numbers\n",
    "print(f\"Sigmoid of zero : {sigmoid(0)} \")\n",
    "print(f\"Sigmoid of 1 : {sigmoid(1)} \")\n",
    "print(f\"Sigmoid of -1 : {sigmoid(-1)} \")"
   ]
  },
  {
   "cell_type": "markdown",
   "id": "703a1c89",
   "metadata": {},
   "source": [
    "## Problem Definition \n",
    "\n",
    "Now, we have defined our model. From our dataset, we have x and y. Our goal is to find the optimal value of parameters (w, b). Now this is similar to our linear regression. \n",
    "\n",
    "Note: This time, we are also including bias (b) as a parameter along with w. "
   ]
  },
  {
   "cell_type": "markdown",
   "id": "25b9a520",
   "metadata": {},
   "source": [
    "This is great, we can apply our loss function/GD based learning framework to find the parameters.\n",
    "\n",
    "**Framework:**\n",
    "1. Assume some initial value for the parameters.\n",
    "2. Using the initial parameters, calculate yhat for all examples in the dataset.\n",
    "3. Calculate the mean loss (all examples in the data) using the loss function.\n",
    "4. Find the gradient of the loss w.r.t the parameters\n",
    "5. Adjust the parameters based on the gradient\n",
    "6. Repeat steps 3 to 5 until convergence"
   ]
  },
  {
   "cell_type": "markdown",
   "id": "130b918f",
   "metadata": {},
   "source": [
    "## Cross Entropy \n",
    "\n",
    "In the regression training, we used Mean Squared Error (MSE) loss function. However, in the classification case the cross entropy loss function works well. \n",
    "\n",
    "Cross Entropy loss = -$\\frac{1}{n} \\sum_x [y lna + (1−y)ln(1−a)]$"
   ]
  },
  {
   "cell_type": "markdown",
   "id": "8ae4cb72",
   "metadata": {},
   "source": [
    "To understand why this is a good loss function, let's review the below cases.\n",
    "\n",
    "We want our loss to be minimal, when we have our actual value 'y' and our yhat (or 'activation' or 'a') are close to each other. (when yhat ~= y)\n",
    "\n",
    "**Case 1: y = 0 & yhat (or a) ~= 0**:\n",
    "In this case, the first term (ylna) becomes 0. The 2nd term (1-y)ln(1-a) becomes close to zero.\n",
    "\n",
    "**Case 2: y = 1 & yhat (or a) ~= 1.**:\n",
    "In this case, the first term (ylna) becomes close to 0. The 2nd term (1-y)ln(1-a) becomes 0."
   ]
  },
  {
   "cell_type": "code",
   "execution_count": 8,
   "id": "9225864d",
   "metadata": {},
   "outputs": [],
   "source": [
    "# Define the cross-entropy loss for one example\n",
    "def cross_entropy(act, y):\n",
    "    ce =-((y*np.log(act)) + (1-y)*np.log(1-act))\n",
    "    return ce"
   ]
  },
  {
   "cell_type": "code",
   "execution_count": 9,
   "id": "6a06bc5a",
   "metadata": {},
   "outputs": [
    {
     "name": "stdout",
     "output_type": "stream",
     "text": [
      "y: 0 yhat: 0.10 ce loss: 0.11\n"
     ]
    }
   ],
   "source": [
    "# Case 1:\n",
    "act = 0.1\n",
    "print(f\"y: 0 yhat: {act:.2f} ce loss: {cross_entropy(act, 0):.2f}\")"
   ]
  },
  {
   "cell_type": "code",
   "execution_count": 10,
   "id": "dcb66b20",
   "metadata": {},
   "outputs": [
    {
     "name": "stdout",
     "output_type": "stream",
     "text": [
      "y: 0 yhat: 0.95 ce loss: 0.05\n"
     ]
    }
   ],
   "source": [
    "# Case 2:\n",
    "act = 0.95\n",
    "print(f\"y: 0 yhat: {act:.2f} ce loss: {cross_entropy(act, 1):.2f}\")"
   ]
  },
  {
   "cell_type": "markdown",
   "id": "1add2948",
   "metadata": {},
   "source": [
    "### Step 1 : Initialize Parameters"
   ]
  },
  {
   "cell_type": "code",
   "execution_count": 11,
   "id": "525c9eb3",
   "metadata": {},
   "outputs": [],
   "source": [
    "w = 0.1\n",
    "b = 0"
   ]
  },
  {
   "cell_type": "markdown",
   "id": "fe94f397",
   "metadata": {},
   "source": [
    "### Step 2,3: Calculate CE loss"
   ]
  },
  {
   "cell_type": "code",
   "execution_count": 12,
   "id": "f2428a68",
   "metadata": {},
   "outputs": [
    {
     "name": "stdout",
     "output_type": "stream",
     "text": [
      "Mean CE loss : {calc_ce_loss(X, y, w, b):.2f}\n"
     ]
    }
   ],
   "source": [
    "def calc_ce_loss(x, y, w, b):\n",
    "    loss = 0\n",
    "    for _x, _y in zip(x, y):\n",
    "        # Calculate sigmoid activation\n",
    "        act = sigmoid(w*_x+b)\n",
    "        \n",
    "        # Calculate CE loss for one example\n",
    "        ce_i = -((_y*np.log(act)) + (1-_y)*np.log(1-act))\n",
    "        loss += ce_i\n",
    "        \n",
    "    # Return average ce loss\n",
    "    return loss/len(y)\n",
    "\n",
    "print(\"Mean CE loss : {calc_ce_loss(X, y, w, b):.2f}\")"
   ]
  },
  {
   "cell_type": "markdown",
   "id": "6052ac65",
   "metadata": {},
   "source": [
    "### Step 4: Calculate Gradient w.r.t parameters"
   ]
  },
  {
   "cell_type": "code",
   "execution_count": 13,
   "id": "110d7bcc",
   "metadata": {},
   "outputs": [
    {
     "name": "stdout",
     "output_type": "stream",
     "text": [
      "Gradient of w: 15.09 and b are : 0.53\n"
     ]
    }
   ],
   "source": [
    "def calc_gradients(x, y, w, b):\n",
    "    dw = 0\n",
    "    db = 0\n",
    "    for _x, _y in zip(x, y):\n",
    "        act = sigmoid(w*_x+b)\n",
    "        # Gradient of w\n",
    "        dw += (act-_y)*_x\n",
    "        # Gradient of b\n",
    "        db += act-_y\n",
    "        \n",
    "    return dw/len(y), db/len(y)\n",
    "\n",
    "dw, db = calc_gradients(X,y,w,b)\n",
    "print(f\"Gradient of w: {dw:.2f} and b are : {db:.2f}\")"
   ]
  },
  {
   "cell_type": "markdown",
   "id": "3fa4e85e",
   "metadata": {},
   "source": [
    "### Training Procedure"
   ]
  },
  {
   "cell_type": "code",
   "execution_count": 14,
   "id": "d8a5b3a9",
   "metadata": {},
   "outputs": [
    {
     "name": "stdout",
     "output_type": "stream",
     "text": [
      "Iteration: 1 CE Loss: 0.69 Gradient : -4.00 Updated Params: 0.00 -0.00\n",
      "Iteration: 2 CE Loss: 0.68 Gradient : -1.74 Updated Params: 0.01 -0.00\n",
      "Iteration: 3 CE Loss: 0.68 Gradient : -0.78 Updated Params: 0.01 -0.00\n",
      "Iteration: 4 CE Loss: 0.68 Gradient : -0.36 Updated Params: 0.01 -0.00\n",
      "Iteration: 5 CE Loss: 0.68 Gradient : -0.16 Updated Params: 0.01 -0.00\n",
      "Iteration: 6 CE Loss: 0.68 Gradient : -0.08 Updated Params: 0.01 -0.00\n",
      "Iteration: 7 CE Loss: 0.68 Gradient : -0.04 Updated Params: 0.01 -0.00\n",
      "Iteration: 8 CE Loss: 0.68 Gradient : -0.02 Updated Params: 0.01 -0.00\n",
      "Iteration: 9 CE Loss: 0.68 Gradient : -0.01 Updated Params: 0.01 -0.00\n",
      "Iteration: 10 CE Loss: 0.68 Gradient : -0.01 Updated Params: 0.01 -0.00\n",
      "Final parameters w: 0.01 b: -0.00\n"
     ]
    }
   ],
   "source": [
    "# Initial value of parameters\n",
    "w = 0\n",
    "b = 0\n",
    "lr = 0.001   # Learning rate \n",
    "epochs = 10 # Run the learning procedure for epochs\n",
    "for epoch in range(epochs):\n",
    "    loss = calc_ce_loss(X, y, w, b)\n",
    "    dw, db = calc_gradients(X, y, w, b)\n",
    "    w += -lr * dw\n",
    "    b += -lr * db\n",
    "    print(f\"Iteration: {epoch+1} CE Loss: {loss:.2f} Gradient : {dw:.2f} Updated Params: {w:.2f} {b:.2f}\")\n",
    "    \n",
    "print(f\"Final parameters w: {w:.2f} b: {b:.2f}\")"
   ]
  },
  {
   "cell_type": "markdown",
   "id": "17ae8a29",
   "metadata": {},
   "source": [
    "### Inference"
   ]
  },
  {
   "cell_type": "code",
   "execution_count": 15,
   "id": "815cc5dd",
   "metadata": {},
   "outputs": [
    {
     "name": "stdout",
     "output_type": "stream",
     "text": [
      "Prob. of a 60 year old to have diabetes is 0.61\n"
     ]
    }
   ],
   "source": [
    "# What is the probability of a person aged 60 to have diabetes?\n",
    "print(f\"Prob. of a 60 year old to have diabetes is {sigmoid(w*60+b):.2f}\")"
   ]
  },
  {
   "cell_type": "markdown",
   "id": "86be1a71",
   "metadata": {},
   "source": [
    "## Vectorized Logistic Regression"
   ]
  },
  {
   "cell_type": "code",
   "execution_count": 16,
   "id": "6b285130",
   "metadata": {},
   "outputs": [],
   "source": [
    "'''\n",
    "Simple Logistic Regression Model\n",
    "Vectorized form\n",
    "\n",
    "input data shape : mxn\n",
    "\n",
    "m - number of examples\n",
    "n - number of features\n",
    "'''\n",
    "\n",
    "class SimpleLogisticModel(object):\n",
    "    def __init__(self):\n",
    "        self.weight = None     # Weight\n",
    "        self.bias = None       # bias\n",
    "        self.lr = 0.001        # Learning rate\n",
    "        self.epochs = 500      # Number of epochs to train\n",
    "        \n",
    "    \"\"\"Calculate sigmoid\"\"\"\n",
    "    def _sigmoid(self, z):\n",
    "        return 1.0/(1 + np.exp(-z))  # Shape : m,1\n",
    "    \n",
    "    \"\"\"Calculate cross entropy loss\"\"\"\n",
    "    def calc_loss(self, y, act):\n",
    "        loss = -np.mean(((y*np.log(act)) + (1-y)*np.log(1-act)))\n",
    "        return loss\n",
    "    \n",
    "    \"\"\"Calculate gradients for weight & bias\"\"\"\n",
    "    def calc_gradients(self, X, y, act):\n",
    "        dw = (np.dot(X.T, (act-y))) / len(y)  # Shape: (n , 1)\n",
    "        db = np.mean((act-y))                 # scalar\n",
    "        return dw, db\n",
    "    \n",
    "    def fit(self, X, y):\n",
    "        m, n = X.shape  # m - number of examples, n - no of features\n",
    "        y = y.reshape(-1, 1)  # Shape: (number of examples, 1)\n",
    "        self.weight = np.zeros((n,1)) # Shape: (features , 1)\n",
    "        self.bias = 0\n",
    "        \n",
    "        losses = []\n",
    "        for epoch in range(self.epochs):\n",
    "            act = self._sigmoid(np.dot(X, self.weight) + self.bias)  # Shape: (m, 1)\n",
    "            loss = self.calc_loss(y, act)\n",
    "            dw, db = self.calc_gradients(X, y, act) \n",
    "            self.weight += -self.lr * dw  # shape: n,1\n",
    "            self.bias += -self.lr * db    # scalar\n",
    "            losses.append(loss)\n",
    "        return self.weight, self.bias, losses\n",
    "    \n",
    "    def predict(self, X):\n",
    "        predictions = sigmoid(np.dot(X, self.weight) + self.bias) # Shape: (m,1)\n",
    "        pred_classes = np.array([1 if pred>0.5 else 0 for pred in predictions])\n",
    "        return pred_classes.item(), predictions.item()"
   ]
  },
  {
   "cell_type": "code",
   "execution_count": 17,
   "id": "4cea9308",
   "metadata": {},
   "outputs": [
    {
     "name": "stdout",
     "output_type": "stream",
     "text": [
      "Model predicts if a 60 year old will have diabetes : 1 with probability 0.61\n"
     ]
    }
   ],
   "source": [
    "# What is the probability of a person aged 60 to have diabetes?\n",
    "\n",
    "model = SimpleLogisticModel()\n",
    "data_x = np.reshape(X, (-1,1))\n",
    "# Train a model\n",
    "weights, bias, _ = model.fit(data_x, y)\n",
    "\n",
    "# Predict for a new example\n",
    "preds = model.predict(60)\n",
    "preds\n",
    "print(f\"Model predicts if a 60 year old will have diabetes : {preds[0]} with probability {preds[1]:.2f}\")"
   ]
  },
  {
   "cell_type": "markdown",
   "id": "c939d289",
   "metadata": {},
   "source": [
    "The vectorized implementation can also handle multiple features."
   ]
  },
  {
   "cell_type": "code",
   "execution_count": 18,
   "id": "986fd8c4",
   "metadata": {},
   "outputs": [
    {
     "name": "stdout",
     "output_type": "stream",
     "text": [
      "Trained Weights: [[-0.12266051]\n",
      " [ 0.1291593 ]\n",
      " [-0.02376765]] and bias: -0.04541422288825383 \n",
      "Weights shape: (3, 1)\n"
     ]
    }
   ],
   "source": [
    "# We are creating random dataset with shape 10x3 (mxn)\n",
    "data_3d = np.random.randn(10,3)\n",
    "weights, bias, _ = model.fit(data_3d, y) # Weights shape : n x 1\n",
    "print(f\"Trained Weights: {weights} and bias: {bias} \")\n",
    "print(f\"Weights shape: {weights.shape}\")"
   ]
  },
  {
   "cell_type": "markdown",
   "id": "8f7812b9",
   "metadata": {},
   "source": [
    "In practical applications, we will always train models with a higher level framework such as sklearn, pytorch among others as they support a lot of additional capabilties to pre-process and normalize the data, numerical stability etc.,"
   ]
  },
  {
   "cell_type": "code",
   "execution_count": null,
   "id": "5b546999",
   "metadata": {},
   "outputs": [],
   "source": []
  }
 ],
 "metadata": {
  "kernelspec": {
   "display_name": "Python 3 (ipykernel)",
   "language": "python",
   "name": "python3"
  },
  "language_info": {
   "codemirror_mode": {
    "name": "ipython",
    "version": 3
   },
   "file_extension": ".py",
   "mimetype": "text/x-python",
   "name": "python",
   "nbconvert_exporter": "python",
   "pygments_lexer": "ipython3",
   "version": "3.8.9"
  }
 },
 "nbformat": 4,
 "nbformat_minor": 5
}
