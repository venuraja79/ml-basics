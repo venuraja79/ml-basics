{
 "cells": [
  {
   "cell_type": "markdown",
   "id": "ecee827d",
   "metadata": {},
   "source": [
    "# Machine Learning Intuition for Absolute Beginners"
   ]
  },
  {
   "cell_type": "markdown",
   "id": "ef5ed5af",
   "metadata": {},
   "source": [
    "The intention here is to provide a basic intuition of Machine Learning (ML) that is applicable to many problems. We will consider a toy dataset to create a model that will predict the weight of the person provided the age of the person. In real world, the weight depends on many other factors such as height, country in addition to age. For our model, we will just consider age as our input.\n",
    "\n",
    "Note, the output here is a continuous variable (weight) and the ML procedure is known as 'regression'. We will use Linear Regression technique to build the model. No higher level packages.\n",
    "\n",
    "Plan:\n",
    "1. Use a Toy dataset\n",
    "2. Implement the Linear regression algorithm in python\n",
    "3. Introduce loss function (Mean Squared Error)\n",
    "4. Introudce the training procedure (Gradient Descent)\n"
   ]
  },
  {
   "cell_type": "markdown",
   "id": "3fe8a0f1",
   "metadata": {},
   "source": [
    "## Toy Dataset"
   ]
  },
  {
   "cell_type": "markdown",
   "id": "263fcea7",
   "metadata": {},
   "source": [
    "We will create a toy dataset with just one input (x - independent variable) and one output (y - Dependent variable)\n",
    "\n",
    "* X is the age of the person\n",
    "* y is the weight of the person"
   ]
  },
  {
   "cell_type": "code",
   "execution_count": 1,
   "id": "01676052",
   "metadata": {},
   "outputs": [],
   "source": [
    "# This is our toy dataset. Just two python lists\n",
    "X = [25, 30, 40, 20, 15, 60, 33, 52, 70]  # Age\n",
    "y = [65, 70, 78, 60, 45, 70, 65, 65, 60]  # Weight in Kg"
   ]
  },
  {
   "cell_type": "code",
   "execution_count": 2,
   "id": "a7ba2889",
   "metadata": {},
   "outputs": [],
   "source": [
    "# Few python package imports\n",
    "\n",
    "import numpy as np\n",
    "import matplotlib.pyplot as plt\n",
    "%matplotlib inline"
   ]
  },
  {
   "cell_type": "markdown",
   "id": "fc86fae8",
   "metadata": {},
   "source": [
    "We are creating a plot with Age along x-axis and weight on the y-axis. Every datapoint is represented by a blue dot. We see that as we age, we gain weight upto some point and then lose as we get older."
   ]
  },
  {
   "cell_type": "code",
   "execution_count": 3,
   "id": "6c89bb1f",
   "metadata": {},
   "outputs": [
    {
     "data": {
      "image/png": "[encoded data removed]",
      "text/plain": [
       "<Figure size 432x288 with 1 Axes>"
      ]
     },
     "metadata": {
      "needs_background": "light"
     },
     "output_type": "display_data"
    }
   ],
   "source": [
    "# Let's create a scatter plot to view the data\n",
    "def draw_scatter_plot():\n",
    "    plt.scatter(X, y)\n",
    "    plt.title('Age vs Weight')\n",
    "    plt.xlabel('Age')\n",
    "    plt.ylabel('Weight in Kg')\n",
    "draw_scatter_plot()"
   ]
  },
  {
   "cell_type": "markdown",
   "id": "b0ad43b8",
   "metadata": {},
   "source": [
    "## Solutions"
   ]
  },
  {
   "cell_type": "markdown",
   "id": "ee11ba92",
   "metadata": {},
   "source": [
    "Now, What are our options to solve this? Remember, our problem is we want a model/technique to predict the weight given the person's age.\n",
    "\n",
    "1. If we provide this problem to a high school student, he/she will draw a line on this plot that kind of fits the given data points well. (more on this later) based on visual cue. Once the 'best' line (what is a best line?) is drawn, we can easily find the weight for any new person provided the Age. \n",
    "\n",
    "Note: This is great idea for this dataset with just 1 input and 1 output. Now, what happens if we include height, nationality of the person as an additional inputs? Using visual cue doesn't help much when we have more than 3 dimensions.\n",
    "\n",
    "\n",
    "2. At the same time, a student with alegbric knowledge will try to solve it using numerical methods. Again, this method is difficult to implement for a larger dataset with many inputs."
   ]
  },
  {
   "cell_type": "code",
   "execution_count": 4,
   "id": "a9669749",
   "metadata": {},
   "outputs": [
    {
     "data": {
      "text/plain": [
       "[<matplotlib.lines.Line2D at 0x10ac5b730>]"
      ]
     },
     "execution_count": 4,
     "metadata": {},
     "output_type": "execute_result"
    },
    {
     "data": {
      "image/png": "[encoded data removed]",
      "text/plain": [
       "<Figure size 432x288 with 1 Axes>"
      ]
     },
     "metadata": {
      "needs_background": "light"
     },
     "output_type": "display_data"
    }
   ],
   "source": [
    "draw_scatter_plot()\n",
    "line_x = np.linspace(0, 60, 50)\n",
    "# y = w. x + b\n",
    "# w = coefficient\n",
    "# b = bias\n",
    "\n",
    "# Draw green line\n",
    "line_green = 1.3 * line_x + 20\n",
    "plt.plot(line_x, line_green, color='green')\n",
    "\n",
    "# Draw red line\n",
    "line_red = 0.5 * line_x\n",
    "plt.plot(line_x, line_red, color='red')"
   ]
  },
  {
   "cell_type": "markdown",
   "id": "d9b9f0ac",
   "metadata": {},
   "source": [
    "We are drawing a few lines randomly, In this case the green line seems to fit the datapoints better compared to red.\n",
    "\n",
    "For a moment, let's think of this green line here as our model. We don't know if this is the 'best' model at this point. However, given a person's age, we can calculate (infer) the weight from this plot."
   ]
  },
  {
   "cell_type": "markdown",
   "id": "2493d35d",
   "metadata": {},
   "source": [
    "## We need a real approach\n",
    "This is all great for simple toy datasets. We want a real approach, need an algorithm that will work well for larger datasets with many inputs.\n",
    "\n",
    "Anyway, let's formalize this. A line can be represented by the equation \n",
    "\n",
    "    y = mx + c\n",
    "    \n",
    "For more details, refer https://en.wikipedia.org/wiki/Linear_equation\n",
    "\n",
    "To make this simpler, we will remove the constant c and just use \n",
    "\n",
    "    y = w.x (w instead of m)\n",
    "\n",
    "If you look into the problem carefully, we have a dataset that contains both 'x' and its corresponding 'y' and our job here is to find the value for 'w' that satisfies this data. That will be our model.\n",
    "\n",
    "To find the 'w', we need,\n",
    "\n",
    "1. Learning Procedure: We have to find a procedure to learn the 'right' value of W given a dataset.\n",
    "2. Evaluation: We have to also devise a mechanism to evaluate if the final 'W' that we have arrived at is good enough for the given data and also will work well for new examples. \n",
    "\n",
    "Jargon: The 'x' in this dataset is called 'features' and 'y' as 'ground truth'. The 'w' is the weights of the model."
   ]
  },
  {
   "cell_type": "markdown",
   "id": "67ca5111",
   "metadata": {},
   "source": [
    "## Learning Procedure:\n",
    "\n",
    "1. Let's assume some initial value for 'w' at random.\n",
    "2. Then, let's calculate 'yhat' which is 'w.x'. We know, 'yhat' will not be same as 'y' \n",
    "3. Let's call the absolute difference between them as our error/loss. \n",
    "4. Calculate the mean loss (all examples in the data)\n",
    "5. Change the 'w' and repeat the procedure (steps 2 to 4) until it converges.\n",
    "\n",
    "Note: We can also square this error and that is called as L2 loss."
   ]
  },
  {
   "cell_type": "code",
   "execution_count": 5,
   "id": "9cd59b93",
   "metadata": {},
   "outputs": [
    {
     "name": "stdout",
     "output_type": "stream",
     "text": [
      "Example: 1 input x: 25 ground truth y: 65  yhat: 25.0  Sq. Error: 1600.0\n",
      "Example: 2 input x: 30 ground truth y: 70  yhat: 30.0  Sq. Error: 1600.0\n",
      "Example: 3 input x: 40 ground truth y: 78  yhat: 40.0  Sq. Error: 1444.0\n",
      "Example: 4 input x: 20 ground truth y: 60  yhat: 20.0  Sq. Error: 1600.0\n",
      "Example: 5 input x: 15 ground truth y: 45  yhat: 15.0  Sq. Error: 900.0\n",
      "Example: 6 input x: 60 ground truth y: 70  yhat: 60.0  Sq. Error: 100.0\n",
      "Example: 7 input x: 33 ground truth y: 65  yhat: 33.0  Sq. Error: 1024.0\n",
      "Example: 8 input x: 52 ground truth y: 65  yhat: 52.0  Sq. Error: 169.0\n",
      "Example: 9 input x: 70 ground truth y: 60  yhat: 70.0  Sq. Error: 100.0\n",
      "\n",
      "Final Loss (MSE) Iteration 1: 948.56\n"
     ]
    }
   ],
   "source": [
    "# Training procedure\n",
    "# Assume w \n",
    "w = 1.0\n",
    "\n",
    "# Calculate errors for each example and find the average loss.\n",
    "# Loss = Mean Squared Error\n",
    "\n",
    "errors = []\n",
    "index = 1\n",
    "for _x, _y in zip(X, y):\n",
    "    # y = w.x\n",
    "    yhat = w * _x\n",
    "    # Calcuate the Squared Error term\n",
    "    error = (yhat - _y) ** 2\n",
    "    errors.append(error)\n",
    "    print(f\"Example: {index} input x: {_x} ground truth y: {_y}  yhat: {yhat}  Sq. Error: {error}\")\n",
    "    index += 1\n",
    "\n",
    "print()\n",
    "print(f\"Final Loss (MSE) Iteration 1: {np.sum(errors)/len(y):.2f}\")"
   ]
  },
  {
   "cell_type": "markdown",
   "id": "c11b4e6a",
   "metadata": {},
   "source": [
    "Here, we have our first iteration over all the examples in the dataset. The final average loss seems to be very high and we can definitely do better. \n",
    "\n",
    "Jargon: This loss is called MSE (Mean Squared Error) and it can be thought of as unhappiness of the model with the ground truth labels. If you think about it, we want to reduce this loss (unhappiness) as much as possible to get the optimal 'w' which results in a better model.\n",
    "\n",
    "To reduce the loss, the question now is should we increase the w or reduce it? We don't know yet."
   ]
  },
  {
   "cell_type": "markdown",
   "id": "e49272b2",
   "metadata": {},
   "source": [
    "## How do we reduce Loss?\n",
    "1. One method is trial and error. We can calculate the loss for different 'w' values and find the one that provides the lowest loss."
   ]
  },
  {
   "cell_type": "code",
   "execution_count": 6,
   "id": "424fcf6a",
   "metadata": {},
   "outputs": [],
   "source": [
    "# This is our loss function - refactored.\n",
    "def calculate_loss(w, x, y):\n",
    "    errors = [(w*_x -_y)**2 for _x, _y in zip(x,y)]\n",
    "    return np.mean(errors)"
   ]
  },
  {
   "cell_type": "code",
   "execution_count": 11,
   "id": "663dfe3d",
   "metadata": {},
   "outputs": [
    {
     "name": "stdout",
     "output_type": "stream",
     "text": [
      "w: 0.80 \t Loss (MSE): 1313.28\n",
      "w: 1.00 \t Loss (MSE): 948.56\n",
      "w: 1.10 \t Loss (MSE): 819.67\n",
      "w: 1.20 \t Loss (MSE): 726.44\n",
      "w: 1.30 \t Loss (MSE): 668.85\n",
      "w: 1.50 \t Loss (MSE): 660.64\n",
      "w: 1.60 \t Loss (MSE): 710.01\n",
      "w: 1.80 \t Loss (MSE): 915.70\n",
      "w: 2.00 \t Loss (MSE): 1264.00\n"
     ]
    }
   ],
   "source": [
    "for w in [0.8, 1.0, 1.1, 1.2, 1.3, 1.5, 1.6, 1.8, 2.0]:\n",
    "    print(f\"w: {w:.2f} \\t Loss (MSE): {calculate_loss(w, X, y):.2f}\")"
   ]
  },
  {
   "cell_type": "markdown",
   "id": "15b01c4d",
   "metadata": {},
   "source": [
    "Our least loss seems for w=~1.5. But, this method seems to be cumbersome when we have many parameters(w) in the model and time consuming. We want a better solution obviously. \n",
    "\n",
    "Let's use our high school calculus to come up with one."
   ]
  },
  {
   "cell_type": "code",
   "execution_count": null,
   "id": "0f7c30d4",
   "metadata": {},
   "outputs": [],
   "source": []
  }
 ],
 "metadata": {
  "kernelspec": {
   "display_name": "Python 3 (ipykernel)",
   "language": "python",
   "name": "python3"
  },
  "language_info": {
   "codemirror_mode": {
    "name": "ipython",
    "version": 3
   },
   "file_extension": ".py",
   "mimetype": "text/x-python",
   "name": "python",
   "nbconvert_exporter": "python",
   "pygments_lexer": "ipython3",
   "version": "3.8.9"
  }
 },
 "nbformat": 4,
 "nbformat_minor": 5
}
