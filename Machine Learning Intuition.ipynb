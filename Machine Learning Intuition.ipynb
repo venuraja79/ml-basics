{
 "cells": [
  {
   "cell_type": "markdown",
   "id": "ecee827d",
   "metadata": {},
   "source": [
    "# Machine Learning Intuition for Absolute Beginners"
   ]
  },
  {
   "cell_type": "markdown",
   "id": "ef5ed5af",
   "metadata": {},
   "source": [
    "The intention here is to provide a basic intuition of Machine Learning (ML) that is applicable to many problems. This notebook is fully written in basic python, no higher level packages have been used.  \n",
    "\n",
    "We will consider a toy dataset to create a model that will predict the weight of the person provided the age of the person. In real world, the weight depends on many other factors such as height, country in addition to age. For our model, we will just consider age as our input.\n",
    "\n",
    "Note, the output here is a continuous variable (weight) and the ML procedure is known as 'regression'. We will use Linear Regression technique to build the model.\n",
    "\n",
    "Simple Plan:\n",
    "1. Use a Toy dataset\n",
    "2. Implement the Linear regression algorithm in python\n",
    "3. Introduce loss function (Mean Squared Error)\n",
    "4. Introudce the training procedure (Gradient Descent)\n"
   ]
  },
  {
   "cell_type": "markdown",
   "id": "3fe8a0f1",
   "metadata": {},
   "source": [
    "## Toy Dataset"
   ]
  },
  {
   "cell_type": "markdown",
   "id": "263fcea7",
   "metadata": {},
   "source": [
    "We will create a toy dataset with just one input (x - independent variable) and one output (y - Dependent variable)\n",
    "\n",
    "* X is the age of the person\n",
    "* y is the weight of the person"
   ]
  },
  {
   "cell_type": "code",
   "execution_count": 1,
   "id": "01676052",
   "metadata": {},
   "outputs": [],
   "source": [
    "# This is our toy dataset. Just two python lists\n",
    "X = [25, 30, 40, 20, 15, 60, 33, 52, 70]  # Age\n",
    "y = [65, 70, 78, 60, 45, 70, 65, 65, 60]  # Weight in Kg"
   ]
  },
  {
   "cell_type": "code",
   "execution_count": 2,
   "id": "a7ba2889",
   "metadata": {},
   "outputs": [],
   "source": [
    "# Few python package imports\n",
    "\n",
    "import numpy as np\n",
    "import matplotlib.pyplot as plt\n",
    "%matplotlib inline"
   ]
  },
  {
   "cell_type": "markdown",
   "id": "c665d3b0",
   "metadata": {},
   "source": [
    "We are creating a plot with Age along x-axis and weight on the y-axis. Every datapoint is represented by a blue dot. We see that as we age, we gain weight upto some point and then lose as we get older."
   ]
  },
  {
   "cell_type": "code",
   "execution_count": 3,
   "id": "6c89bb1f",
   "metadata": {},
   "outputs": [
    {
     "data": {
      "image/png": "[encoded data removed]",
      "text/plain": [
       "<Figure size 432x288 with 1 Axes>"
      ]
     },
     "metadata": {
      "needs_background": "light"
     },
     "output_type": "display_data"
    }
   ],
   "source": [
    "# Let's create a scatter plot to view the data\n",
    "def draw_scatter_plot():\n",
    "    plt.scatter(X, y)\n",
    "    plt.title('Age vs Weight')\n",
    "    plt.xlabel('Age')\n",
    "    plt.ylabel('Weight in Kg')\n",
    "draw_scatter_plot()"
   ]
  },
  {
   "cell_type": "markdown",
   "id": "b0ad43b8",
   "metadata": {},
   "source": [
    "## Solutions"
   ]
  },
  {
   "cell_type": "markdown",
   "id": "ee11ba92",
   "metadata": {},
   "source": [
    "Now, What are our options to solve this? Remember, our problem is we want a model/technique to predict the weight given the person's age.\n",
    "\n",
    "1. If we provide this problem to a high school student, he/she will draw a line on this plot that kind of fits the given data points well. (more on this later) based on visual cue. Once the 'best' line (what is a best line?) is drawn, we can easily find the weight for any new person provided the Age. \n",
    "\n",
    "Note: This is great idea for this dataset with just 1 input and 1 output. Now, what happens if we include height, nationality of the person as an additional inputs? Using visual cue doesn't help much when we have more than 3 dimensions.\n",
    "\n",
    "\n",
    "2. At the same time, a student with alegbric knowledge will try to solve it using numerical methods. Again, this method is difficult to implement for a larger dataset with many inputs."
   ]
  },
  {
   "cell_type": "code",
   "execution_count": 4,
   "id": "a9669749",
   "metadata": {},
   "outputs": [
    {
     "data": {
      "text/plain": [
       "[<matplotlib.lines.Line2D at 0x1170e6df0>]"
      ]
     },
     "execution_count": 4,
     "metadata": {},
     "output_type": "execute_result"
    },
    {
     "data": {
      "image/png": "[encoded data removed]",
      "text/plain": [
       "<Figure size 432x288 with 1 Axes>"
      ]
     },
     "metadata": {
      "needs_background": "light"
     },
     "output_type": "display_data"
    }
   ],
   "source": [
    "draw_scatter_plot()\n",
    "line_x = np.linspace(0, 60, 50)\n",
    "# y = w. x + b\n",
    "# w = coefficient\n",
    "# b = bias\n",
    "\n",
    "# Draw green line\n",
    "line_green = 1.3 * line_x + 20\n",
    "plt.plot(line_x, line_green, color='green')\n",
    "\n",
    "# Draw red line\n",
    "line_red = 0.5 * line_x\n",
    "plt.plot(line_x, line_red, color='red')"
   ]
  },
  {
   "cell_type": "markdown",
   "id": "d9b9f0ac",
   "metadata": {},
   "source": [
    "We are drawing a few lines randomly, In this case the green line seems to fit the datapoints better compared to red.\n",
    "\n",
    "For a moment, let's think of this green line here as our model. We don't know if this is the 'best' model at this point. However, given a person's age, we can calculate (infer) the weight from this plot."
   ]
  },
  {
   "cell_type": "markdown",
   "id": "2493d35d",
   "metadata": {},
   "source": [
    "## We need a real approach\n",
    "This is all great for simple toy datasets. We want a real approach, need an algorithm that will work well for larger datasets with many inputs.\n",
    "\n",
    "Anyway, let's formalize this. A line can be represented by the equation \n",
    "\n",
    "${y = mx + c}$\n",
    "    \n",
    "For more details, refer https://en.wikipedia.org/wiki/Linear_equation\n",
    "\n",
    "To make this simpler, we will remove the constant c and just use \n",
    "\n",
    "${y = w.x}$ (w instead of m)\n",
    "\n",
    "If you look into the problem carefully, we have a dataset that contains both 'x' and its corresponding 'y' and our job here is to find the value for 'w' that satisfies this data. That will be our model.\n",
    "\n",
    "To find the 'w', we need,\n",
    "\n",
    "1. Learning Procedure: We have to find a procedure to learn the 'right' value of W given a dataset.\n",
    "2. Evaluation: We have to also devise a mechanism to evaluate if the final 'W' that we have arrived at is good enough for the given data and also will work well for new examples. \n",
    "\n",
    "Jargon: The 'x' in this dataset is called 'features' and 'y' as 'ground truth'. The 'w' is the parameter(s) of the model."
   ]
  },
  {
   "cell_type": "markdown",
   "id": "feebaaeb",
   "metadata": {},
   "source": [
    "## Learning Procedure:\n",
    "\n",
    "1. Let's assume some initial value for 'w' at random.\n",
    "2. Then, let's calculate 'yhat' which is 'w.x'. We know, 'yhat' will not be same as 'y' \n",
    "3. Let's call the absolute difference between them as our error/loss. \n",
    "4. Calculate the mean loss (all examples in the data)\n",
    "5. Change the 'w' and repeat the procedure (steps 2 to 4) until it converges.\n",
    "\n",
    "Note: We can also square this error and that is called as L2 loss."
   ]
  },
  {
   "cell_type": "code",
   "execution_count": 5,
   "id": "c3cfc649",
   "metadata": {},
   "outputs": [
    {
     "name": "stdout",
     "output_type": "stream",
     "text": [
      "Example: 1 input x: 25 ground truth y: 65  yhat: 25.0  Sq. Error: 1600.0\n",
      "Example: 2 input x: 30 ground truth y: 70  yhat: 30.0  Sq. Error: 1600.0\n",
      "Example: 3 input x: 40 ground truth y: 78  yhat: 40.0  Sq. Error: 1444.0\n",
      "Example: 4 input x: 20 ground truth y: 60  yhat: 20.0  Sq. Error: 1600.0\n",
      "Example: 5 input x: 15 ground truth y: 45  yhat: 15.0  Sq. Error: 900.0\n",
      "Example: 6 input x: 60 ground truth y: 70  yhat: 60.0  Sq. Error: 100.0\n",
      "Example: 7 input x: 33 ground truth y: 65  yhat: 33.0  Sq. Error: 1024.0\n",
      "Example: 8 input x: 52 ground truth y: 65  yhat: 52.0  Sq. Error: 169.0\n",
      "Example: 9 input x: 70 ground truth y: 60  yhat: 70.0  Sq. Error: 100.0\n",
      "\n",
      "Final Loss (MSE) Iteration 1: 948.56\n"
     ]
    }
   ],
   "source": [
    "# Training procedure\n",
    "# Assume w \n",
    "w = 1.0\n",
    "\n",
    "# Calculate errors for each example and find the average loss.\n",
    "# Loss = Mean Squared Error\n",
    "\n",
    "errors = []\n",
    "index = 1\n",
    "for _x, _y in zip(X, y):\n",
    "    # y = w.x\n",
    "    yhat = w * _x\n",
    "    # Calcuate the Squared Error term\n",
    "    error = (yhat - _y) ** 2\n",
    "    errors.append(error)\n",
    "    print(f\"Example: {index} input x: {_x} ground truth y: {_y}  yhat: {yhat}  Sq. Error: {error}\")\n",
    "    index += 1\n",
    "\n",
    "print()\n",
    "print(f\"Final Loss (MSE) Iteration 1: {np.sum(errors)/len(y):.2f}\")"
   ]
  },
  {
   "cell_type": "markdown",
   "id": "dbaee47c",
   "metadata": {},
   "source": [
    "Here, we have our first iteration over all the examples in the dataset. The final average loss seems to be very high and we can definitely do better. \n",
    "\n",
    "## Loss Function\n",
    "\n",
    "This loss is called MSE (Mean Squared Error) and it can be thought of as unhappiness of the model with the ground truth labels. If you think about it, we want to reduce this loss (unhappiness) as much as possible to get the optimal 'w' which results in a better model.\n",
    "\n",
    "To reduce the loss, the question now is should we increase the w or reduce it? We don't know yet."
   ]
  },
  {
   "cell_type": "markdown",
   "id": "6ac94f0d",
   "metadata": {},
   "source": [
    "## How do we reduce Loss?\n",
    "1. One method is trial and error. We can calculate the loss for different 'w' values and find the one that provides the lowest loss."
   ]
  },
  {
   "cell_type": "code",
   "execution_count": 6,
   "id": "ba2f0fd7",
   "metadata": {},
   "outputs": [],
   "source": [
    "# This is our loss function - refactored.\n",
    "def calculate_loss(w, x, y):\n",
    "    errors = [(w*_x -_y)**2 for _x, _y in zip(x,y)]\n",
    "    return np.mean(errors)"
   ]
  },
  {
   "cell_type": "code",
   "execution_count": 7,
   "id": "f868a530",
   "metadata": {},
   "outputs": [
    {
     "name": "stdout",
     "output_type": "stream",
     "text": [
      "w: 0.80 \t Loss (MSE): 1313.28\n",
      "w: 1.00 \t Loss (MSE): 948.56\n",
      "w: 1.10 \t Loss (MSE): 819.67\n",
      "w: 1.20 \t Loss (MSE): 726.44\n",
      "w: 1.30 \t Loss (MSE): 668.85\n",
      "w: 1.40 \t Loss (MSE): 646.92\n",
      "w: 1.50 \t Loss (MSE): 660.64\n",
      "w: 1.60 \t Loss (MSE): 710.01\n",
      "w: 1.80 \t Loss (MSE): 915.70\n",
      "w: 2.00 \t Loss (MSE): 1264.00\n"
     ]
    }
   ],
   "source": [
    "for w in [0.8, 1.0, 1.1, 1.2, 1.3, 1.4, 1.5, 1.6, 1.8, 2.0]:\n",
    "    print(f\"w: {w:.2f} \\t Loss (MSE): {calculate_loss(w, X, y):.2f}\")"
   ]
  },
  {
   "cell_type": "markdown",
   "id": "d8ee4c8d",
   "metadata": {},
   "source": [
    "Our least loss seems for w=~1.4. But, this method seems to be cumbersome when we have many parameters(w) in the model and time consuming. We want a better solution obviously. \n",
    "\n",
    "Let's use our high school calculus to come up with one."
   ]
  },
  {
   "cell_type": "markdown",
   "id": "aee7c4d4",
   "metadata": {},
   "source": [
    "## Gradient Descent\n",
    "\n",
    "Our focus is still to reduce the loss. From calculus, we know that we can use the gradient (slope) of the function to find the minimum of it. \n",
    "\n",
    "Let's visualize our loss function (MSE). On the x-axis we have the parameter 'w' and on the y-axis we have the loss. We can see that our minimum loss is at ~w=1.4"
   ]
  },
  {
   "cell_type": "code",
   "execution_count": 8,
   "id": "867b34ad",
   "metadata": {},
   "outputs": [
    {
     "data": {
      "text/plain": [
       "Text(0, 0.5, 'loss (MSE)')"
      ]
     },
     "execution_count": 8,
     "metadata": {},
     "output_type": "execute_result"
    },
    {
     "data": {
      "image/png": "[encoded data removed]",
      "text/plain": [
       "<Figure size 432x288 with 1 Axes>"
      ]
     },
     "metadata": {
      "needs_background": "light"
     },
     "output_type": "display_data"
    }
   ],
   "source": [
    "ws = np.linspace(0.8, 2.0, 20)\n",
    "losses = [calculate_loss(w, X, y) for w in ws]\n",
    "plt.plot(ws, losses)\n",
    "plt.xlabel('parameter - w')\n",
    "plt.ylabel('loss (MSE)')"
   ]
  },
  {
   "cell_type": "markdown",
   "id": "d08e522d",
   "metadata": {},
   "source": [
    "* Remember, we initialized our parameter 'w' at 1.0. If we calculate the gradient at w=1.0, we see that it is negative (slope at 1.0) and we have to take a +ve step to reach minimum.\n",
    "* If we initialize at 2.0 (for example), our gradient will be +ve (slope at w=2.0) and hence move in -ve direction to reach minimum.\n",
    "\n",
    "We can also mathematically calculate the gradient using the equation below.\n",
    "\n",
    "$\\frac{df(x)}{dx} = \\lim_{h\\ \\to 0} \\frac{f(x + h) - f(x)}{h}$\n",
    "\n",
    "$\\frac{dl}{dw} = {2*(w*x-y)*x}$"
   ]
  },
  {
   "cell_type": "markdown",
   "id": "6b5ed165",
   "metadata": {},
   "source": [
    "Great, Now we have figured out a dependable way to find the minimum. Typically, we will take very small steps (change the parameter) towards it so that we don't overshoot and go to the other side. This algorithm is called 'Gradient Descent' (GD). \n",
    "\n",
    "Given a dataset, a set of parameters (model) and a loss function, we can use GD algoritm to learn the optimal parameters that fit the dataset.\n",
    "\n",
    "Jargon: The step size here is called learning rate (lr)"
   ]
  },
  {
   "cell_type": "code",
   "execution_count": 9,
   "id": "891a4f02",
   "metadata": {},
   "outputs": [],
   "source": [
    "def calculate_gradient(w, x, y):\n",
    "    grads = [((w*_x -_y) * _x) for _x, _y in zip(x, y)]\n",
    "    return np.mean(grads)"
   ]
  },
  {
   "cell_type": "code",
   "execution_count": 10,
   "id": "92a48394",
   "metadata": {},
   "outputs": [
    {
     "name": "stdout",
     "output_type": "stream",
     "text": [
      "Iteration: 1 Loss: 948.56 Gradient: -733.56 Updated Weight: 1.15)\n",
      "Iteration: 2 Loss: 771.68 Gradient: -472.03 Updated Weight: 1.24)\n",
      "Iteration: 3 Loss: 698.44 Gradient: -303.75 Updated Weight: 1.30)\n",
      "Iteration: 4 Loss: 668.12 Gradient: -195.46 Updated Weight: 1.34)\n",
      "Iteration: 5 Loss: 655.56 Gradient: -125.78 Updated Weight: 1.37)\n",
      "Iteration: 6 Loss: 650.36 Gradient: -80.94 Updated Weight: 1.38)\n",
      "Iteration: 7 Loss: 648.21 Gradient: -52.08 Updated Weight: 1.39)\n",
      "Iteration: 8 Loss: 647.31 Gradient: -33.51 Updated Weight: 1.40)\n",
      "Iteration: 9 Loss: 646.94 Gradient: -21.57 Updated Weight: 1.40)\n"
     ]
    }
   ],
   "source": [
    "# Now implement Gradient Descent\n",
    "\n",
    "w = 1\n",
    "losses = []\n",
    "\n",
    "# We want to run the learning for few iterations.\n",
    "for index in range(9):\n",
    "    # calculate the mean loss and track it for the all examples\n",
    "    loss = calculate_loss(w, X, y)\n",
    "    losses.append(loss)\n",
    "    \n",
    "    # Calculate the gradient at the current w\n",
    "    grad = calculate_gradient(w, X, y)\n",
    "    \n",
    "    # Update the parameter in the direction opposite to the grad. (-ve sign)\n",
    "    w += -0.0002 * grad   # lr * gradient\n",
    "    print(f\"Iteration: {index+1:.0f} Loss: {loss:.2f} Gradient: {grad:.2f} Updated Weight: {w:.2f})\")"
   ]
  },
  {
   "cell_type": "code",
   "execution_count": 11,
   "id": "775e5bd9",
   "metadata": {},
   "outputs": [
    {
     "data": {
      "text/plain": [
       "Text(0.5, 1.0, 'Training Loss')"
      ]
     },
     "execution_count": 11,
     "metadata": {},
     "output_type": "execute_result"
    },
    {
     "data": {
      "image/png": "[encoded data removed]",
      "text/plain": [
       "<Figure size 432x288 with 1 Axes>"
      ]
     },
     "metadata": {
      "needs_background": "light"
     },
     "output_type": "display_data"
    }
   ],
   "source": [
    "plt.plot(losses)\n",
    "plt.xlabel('Iteration')\n",
    "plt.ylabel('Loss')\n",
    "plt.title(\"Training Loss\")"
   ]
  },
  {
   "cell_type": "markdown",
   "id": "4f7e01c1",
   "metadata": {},
   "source": [
    "This loss curve shows that the procedure converges to the optimal parameter value (minima) and notice that as the gradient is reducing the weight updates are also slowing down."
   ]
  },
  {
   "cell_type": "markdown",
   "id": "0b3bfae5",
   "metadata": {},
   "source": [
    "## Inference\n",
    "\n",
    "Our model looks like this.\n",
    "\n",
    "y = 1.4 * x\n",
    "\n",
    "What is the weight of the 44 year old person?"
   ]
  },
  {
   "cell_type": "code",
   "execution_count": 12,
   "id": "c27ea1b0",
   "metadata": {},
   "outputs": [
    {
     "name": "stdout",
     "output_type": "stream",
     "text": [
      "Weight of the 44 year old person is 62 kg\n"
     ]
    }
   ],
   "source": [
    "age = 44\n",
    "print(f\"Weight of the {age} year old person is {(1.4 * age):.0f} kg\")"
   ]
  },
  {
   "cell_type": "markdown",
   "id": "058c7a06",
   "metadata": {},
   "source": [
    "## Summary"
   ]
  },
  {
   "cell_type": "markdown",
   "id": "0e1a44ae",
   "metadata": {},
   "source": [
    "* Our problem statement is to predict weight of the person given the age. We have a dataset that contains the age and weight of a set of people.\n",
    "* We built a Linear Regression model\n",
    "* We defined a loss function to measure the unhappiness of the model on the training data.\n",
    "* We leveraged the gradient of the loss function to find the direction in which we will step.\n",
    "* We used Gradient Descent algorithm to find the best parameter value."
   ]
  },
  {
   "cell_type": "markdown",
   "id": "2c81ba37",
   "metadata": {},
   "source": [
    "In the next part, we will try to vectorize the linear regression model so that we can remove the loops and instead use matrix/vector multiplies for better performance. It will also scale well for more than many input variables aka features."
   ]
  },
  {
   "cell_type": "code",
   "execution_count": null,
   "id": "c1829ab9",
   "metadata": {},
   "outputs": [],
   "source": []
  }
 ],
 "metadata": {
  "kernelspec": {
   "display_name": "Python 3 (ipykernel)",
   "language": "python",
   "name": "python3"
  },
  "language_info": {
   "codemirror_mode": {
    "name": "ipython",
    "version": 3
   },
   "file_extension": ".py",
   "mimetype": "text/x-python",
   "name": "python",
   "nbconvert_exporter": "python",
   "pygments_lexer": "ipython3",
   "version": "3.8.9"
  }
 },
 "nbformat": 4,
 "nbformat_minor": 5
}
