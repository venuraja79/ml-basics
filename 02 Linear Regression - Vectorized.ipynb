{
 "cells": [
  {
   "cell_type": "markdown",
   "id": "f2e0bab1",
   "metadata": {},
   "source": [
    "## Need for Vectorization\n",
    "\n",
    "Our training procedure implementation in Lecture 1 takes one example at a time (that is the reason for the 'for loop') for processing. In a real-world setting, this is not optimal as is it is time consuming. \n",
    "\n",
    "We can vectorize this step to reduce the cost. Here, we convert the scalars into vectors/matrices and use matrix maths to make these operations faster.\n",
    "\n",
    "Let's look at a concrete example now.\n",
    "\n",
    "For more details on Numpy, refer this great guide.\n",
    "https://betterprogramming.pub/numpy-illustrated-the-visual-guide-to-numpy-3b1d4976de1d"
   ]
  },
  {
   "cell_type": "code",
   "execution_count": null,
   "id": "ad131efa",
   "metadata": {},
   "outputs": [],
   "source": [
    "# Create a 10K integer list and multiply every number by 2\n",
    "\n",
    "size = 10000\n",
    "\n",
    "num_list = range(size)\n",
    "%timeit num_list_new = [num*2 for num in num_list]"
   ]
  },
  {
   "cell_type": "code",
   "execution_count": null,
   "id": "19f2aae5",
   "metadata": {},
   "outputs": [],
   "source": [
    "import numpy as np\n",
    "\n",
    "# Convert the list into numpy vector\n",
    "num_vector = np.array(num_list)\n",
    "\n",
    "%timeit num_vector * 2"
   ]
  },
  {
   "cell_type": "markdown",
   "id": "0fef0c48",
   "metadata": {},
   "source": [
    "Once we converted the python list into a numpy array, the same multiplication took fraction of the time taken by the for loop.\n",
    "\n",
    "Identifying and refactoring such operations into vector based ones is an important skill to acquire. In this case, we will vectorize the loss and gradient functions to make our regression model training more efficient."
   ]
  },
  {
   "cell_type": "markdown",
   "id": "78f0ab67",
   "metadata": {},
   "source": [
    "https://numpy.org/doc/stable/reference/generated/numpy.dot.html"
   ]
  },
  {
   "cell_type": "code",
   "execution_count": null,
   "id": "2b2a93a3",
   "metadata": {},
   "outputs": [],
   "source": [
    "a = np.array([1,2,3,4])\n",
    "a.shape"
   ]
  },
  {
   "cell_type": "code",
   "execution_count": null,
   "id": "888391e9",
   "metadata": {},
   "outputs": [],
   "source": [
    "b = np.array([2])\n",
    "b.shape"
   ]
  },
  {
   "cell_type": "code",
   "execution_count": null,
   "id": "8e0bf0ee",
   "metadata": {},
   "outputs": [],
   "source": [
    "# To perform dot product we need a's last dim should be equal to b's first dim.\n",
    "a = a.reshape(-1, 1)  # Get the shape of a in order\n",
    "print(np.dot(a, b))   # Same as a @ b\n",
    "print(np.dot(a, b).shape)"
   ]
  },
  {
   "cell_type": "code",
   "execution_count": null,
   "id": "bc536768",
   "metadata": {},
   "outputs": [],
   "source": [
    "# This is our toy dataset. Just two python lists\n",
    "X = [25, 30, 40, 20, 15, 60, 33, 52, 70]  # Age\n",
    "y = [65, 70, 78, 60, 45, 70, 65, 65, 60]  # Weight in Kg"
   ]
  },
  {
   "cell_type": "code",
   "execution_count": null,
   "id": "9b43a386",
   "metadata": {},
   "outputs": [],
   "source": [
    "# Few python package imports\n",
    "\n",
    "import numpy as np\n",
    "import matplotlib.pyplot as plt\n",
    "%matplotlib inline"
   ]
  },
  {
   "cell_type": "code",
   "execution_count": null,
   "id": "441b340e",
   "metadata": {},
   "outputs": [],
   "source": [
    "# Parameter vector (1 dimensional for now)\n",
    "w = np.array([1])\n",
    "def calculate_loss(self, x, y):\n",
    "    # Vectorized - Taking all examples and do a dot multiply\n",
    "    wx = np.dot(x, w)\n",
    "    loss = ((wx - y) **2).mean()\n",
    "    print(loss)"
   ]
  },
  {
   "cell_type": "markdown",
   "id": "66c47d9f",
   "metadata": {},
   "source": [
    "We have removed the for loop with a vector operation."
   ]
  },
  {
   "cell_type": "code",
   "execution_count": null,
   "id": "d225f343",
   "metadata": {},
   "outputs": [],
   "source": [
    "'''\n",
    "This is a vectorized implementation of the simple linear regression model.\n",
    "'''\n",
    "class SimpleRegression():\n",
    "    def __init__(self):\n",
    "        self.params = None # parameter w\n",
    "        self.lr = 0.0002 # Learning rate\n",
    "        self.iterations = 10\n",
    "    \n",
    "    def _calculate_loss(self, x, y):\n",
    "        loss = ((np.dot(x, self.params) - y) **2).mean()\n",
    "        return loss\n",
    "    \n",
    "    def _calculate_gradient(self, x, y):\n",
    "        residue = np.dot(x, self.params) - y\n",
    "        grad = np.dot(x.T, residue)\n",
    "        grad /= len(y)\n",
    "        return grad.item()\n",
    "    \n",
    "    def fit(self, x, targets, iterations=None):\n",
    "        if not iterations:\n",
    "            iterations = self.iterations\n",
    "        self.params = np.ones(x.shape[1])\n",
    "        for _ in range(iterations):\n",
    "            loss = self._calculate_loss(x, targets)\n",
    "            grad = self._calculate_gradient(x, targets)\n",
    "            self.params += -self.lr * grad\n",
    "            print(f\"Loss: {loss:.2f} Gradient : {grad:.2f} Updated params : {self.params.item()}\")\n",
    "            \n",
    "        return self.params\n",
    "    def predict(self, x):\n",
    "        return np.dot(x, self.params)"
   ]
  },
  {
   "cell_type": "code",
   "execution_count": null,
   "id": "246753bd",
   "metadata": {},
   "outputs": [],
   "source": [
    "data = np.array(X).astype(float).reshape(-1,1)\n",
    "model = SimpleRegression()\n",
    "model.fit(data, y)"
   ]
  },
  {
   "cell_type": "code",
   "execution_count": null,
   "id": "4c714599",
   "metadata": {},
   "outputs": [],
   "source": [
    "# Predict weight for a person with age 28\n",
    "model.predict([28])  "
   ]
  },
  {
   "cell_type": "markdown",
   "id": "4e9e19d2",
   "metadata": {},
   "source": [
    "## Broadcasting"
   ]
  },
  {
   "cell_type": "code",
   "execution_count": null,
   "id": "1b2bd9fd",
   "metadata": {},
   "outputs": [],
   "source": []
  }
 ],
 "metadata": {
  "kernelspec": {
   "display_name": "Python 3 (ipykernel)",
   "language": "python",
   "name": "python3"
  },
  "language_info": {
   "codemirror_mode": {
    "name": "ipython",
    "version": 3
   },
   "file_extension": ".py",
   "mimetype": "text/x-python",
   "name": "python",
   "nbconvert_exporter": "python",
   "pygments_lexer": "ipython3",
   "version": "3.8.9"
  }
 },
 "nbformat": 4,
 "nbformat_minor": 5
}
