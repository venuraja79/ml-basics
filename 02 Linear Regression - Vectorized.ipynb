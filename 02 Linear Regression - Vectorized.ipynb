{
 "cells": [
  {
   "cell_type": "markdown",
   "id": "61ee85bf",
   "metadata": {},
   "source": [
    "## Need for Vectorization\n",
    "\n",
    "Our training procedure implementation in Lecture 1 takes one example at a time (that is the reason for the 'for loop') for processing. In a real-world setting, this is not optimal as is it is time consuming. \n",
    "\n",
    "We can vectorize this step to reduce the cost. Here, we convert the scalars into vectors/matrices and use matrix maths to make these operations faster.\n",
    "\n",
    "Let's look at a concrete example now.\n",
    "\n",
    "For more details on Numpy, refer this great guide.\n",
    "https://betterprogramming.pub/numpy-illustrated-the-visual-guide-to-numpy-3b1d4976de1d"
   ]
  },
  {
   "cell_type": "code",
   "execution_count": 1,
   "id": "395efb91",
   "metadata": {},
   "outputs": [
    {
     "name": "stdout",
     "output_type": "stream",
     "text": [
      "790 µs ± 116 µs per loop (mean ± std. dev. of 7 runs, 1,000 loops each)\n"
     ]
    }
   ],
   "source": [
    "# Create a 10K integer list and multiply every number by 2\n",
    "\n",
    "size = 10000\n",
    "\n",
    "num_list = range(size)\n",
    "%timeit num_list_new = [num*2 for num in num_list]"
   ]
  },
  {
   "cell_type": "code",
   "execution_count": 2,
   "id": "97cf79b3",
   "metadata": {},
   "outputs": [
    {
     "name": "stdout",
     "output_type": "stream",
     "text": [
      "8.11 µs ± 34.1 ns per loop (mean ± std. dev. of 7 runs, 100,000 loops each)\n"
     ]
    }
   ],
   "source": [
    "import numpy as np\n",
    "\n",
    "# Convert the list into numpy vector\n",
    "num_vector = np.array(num_list)\n",
    "\n",
    "%timeit num_vector * 2"
   ]
  },
  {
   "cell_type": "markdown",
   "id": "d5338840",
   "metadata": {},
   "source": [
    "Once we converted the python list into a numpy array, the same multiplication took fraction of the time taken by the for loop.\n",
    "\n",
    "Identifying and refactoring such operations into vector based ones is an important skill to acquire. In this case, we will vectorize the loss and gradient functions to make our regression model training more efficient."
   ]
  },
  {
   "cell_type": "markdown",
   "id": "c5b920bf",
   "metadata": {},
   "source": [
    "https://numpy.org/doc/stable/reference/generated/numpy.dot.html"
   ]
  },
  {
   "cell_type": "code",
   "execution_count": 3,
   "id": "74314647",
   "metadata": {},
   "outputs": [
    {
     "data": {
      "text/plain": [
       "(4,)"
      ]
     },
     "execution_count": 3,
     "metadata": {},
     "output_type": "execute_result"
    }
   ],
   "source": [
    "a = np.array([1,2,3,4])\n",
    "a.shape"
   ]
  },
  {
   "cell_type": "code",
   "execution_count": 4,
   "id": "904982c8",
   "metadata": {},
   "outputs": [
    {
     "data": {
      "text/plain": [
       "(1,)"
      ]
     },
     "execution_count": 4,
     "metadata": {},
     "output_type": "execute_result"
    }
   ],
   "source": [
    "b = np.array([2])\n",
    "b.shape"
   ]
  },
  {
   "cell_type": "code",
   "execution_count": 5,
   "id": "91039a3f",
   "metadata": {},
   "outputs": [
    {
     "name": "stdout",
     "output_type": "stream",
     "text": [
      "[2 4 6 8]\n",
      "(4,)\n"
     ]
    }
   ],
   "source": [
    "# To perform dot product we need a's last dim should be equal to b's first dim.\n",
    "a = a.reshape(-1, 1)  # Get the shape of a in order\n",
    "print(np.dot(a, b))   # Same as a @ b\n",
    "print(np.dot(a, b).shape)"
   ]
  },
  {
   "cell_type": "code",
   "execution_count": 6,
   "id": "c3dc4470",
   "metadata": {},
   "outputs": [],
   "source": [
    "# This is our toy dataset. Just two python lists\n",
    "X = [25, 30, 40, 20, 15, 60, 33, 52, 70]  # Age\n",
    "y = [65, 70, 78, 60, 45, 70, 65, 65, 60]  # Weight in Kg"
   ]
  },
  {
   "cell_type": "code",
   "execution_count": 7,
   "id": "a2dd5a96",
   "metadata": {},
   "outputs": [],
   "source": [
    "# Few python package imports\n",
    "\n",
    "import numpy as np\n",
    "import matplotlib.pyplot as plt\n",
    "%matplotlib inline"
   ]
  },
  {
   "cell_type": "code",
   "execution_count": 8,
   "id": "6a12420f",
   "metadata": {},
   "outputs": [],
   "source": [
    "# Parameter vector (1 dimensional for now)\n",
    "w = np.array([1])\n",
    "def calculate_loss(self, x, y):\n",
    "    # Vectorized - Taking all examples and do a dot multiply\n",
    "    wx = np.dot(x, w)\n",
    "    loss = ((wx - y) **2).mean()\n",
    "    print(loss)"
   ]
  },
  {
   "cell_type": "markdown",
   "id": "02a21922",
   "metadata": {},
   "source": [
    "We have removed the for loop with a vector operation."
   ]
  },
  {
   "cell_type": "code",
   "execution_count": 9,
   "id": "d225f343",
   "metadata": {},
   "outputs": [],
   "source": [
    "'''\n",
    "This is a vectorized implementation of the simple linear regression model.\n",
    "'''\n",
    "class SimpleRegression():\n",
    "    def __init__(self):\n",
    "        self.params = None # parameter w\n",
    "        self.lr = 0.0002 # Learning rate\n",
    "        self.iterations = 10\n",
    "    \n",
    "    def _calculate_loss(self, x, y):\n",
    "        loss = ((np.dot(x, self.params) - y) **2).mean()\n",
    "        return loss\n",
    "    \n",
    "    def _calculate_gradient(self, x, y):\n",
    "        residue = np.dot(x, self.params) - y\n",
    "        grad = np.dot(x.T, residue)\n",
    "        grad /= len(y)\n",
    "        return grad.item()\n",
    "    \n",
    "    def fit(self, x, targets, iterations=None):\n",
    "        if not iterations:\n",
    "            iterations = self.iterations\n",
    "        self.params = np.ones(x.shape[1])\n",
    "        for _ in range(iterations):\n",
    "            loss = self._calculate_loss(x, targets)\n",
    "            grad = self._calculate_gradient(x, targets)\n",
    "            self.params += -self.lr * grad\n",
    "            print(f\"Loss: {loss:.2f} Gradient : {grad:.2f} Updated params : {self.params.item()}\")\n",
    "            \n",
    "        return self.params\n",
    "    def predict(self, x):\n",
    "        return np.dot(x, self.params)"
   ]
  },
  {
   "cell_type": "code",
   "execution_count": 10,
   "id": "5258a34c",
   "metadata": {},
   "outputs": [
    {
     "name": "stdout",
     "output_type": "stream",
     "text": [
      "Loss: 948.56 Gradient : -733.56 Updated params : 1.1467111111111112\n",
      "Loss: 771.68 Gradient : -472.03 Updated params : 1.2411180809876543\n",
      "Loss: 698.44 Gradient : -303.75 Updated params : 1.3018679171368779\n",
      "Loss: 668.12 Gradient : -195.46 Updated params : 1.3409597617007238\n",
      "Loss: 655.56 Gradient : -125.78 Updated params : 1.3661149293237302\n",
      "Loss: 650.36 Gradient : -80.94 Updated params : 1.3823020001872723\n",
      "Loss: 648.21 Gradient : -52.08 Updated params : 1.3927182004316188\n",
      "Loss: 647.31 Gradient : -33.51 Updated params : 1.3994209095532975\n",
      "Loss: 646.94 Gradient : -21.57 Updated params : 1.4037340283985518\n",
      "Loss: 646.79 Gradient : -13.88 Updated params : 1.4065094724519303\n"
     ]
    },
    {
     "data": {
      "text/plain": [
       "array([1.40650947])"
      ]
     },
     "execution_count": 10,
     "metadata": {},
     "output_type": "execute_result"
    }
   ],
   "source": [
    "data = np.array(X).astype(float).reshape(-1,1)\n",
    "model = SimpleRegression()\n",
    "model.fit(data, y)"
   ]
  },
  {
   "cell_type": "code",
   "execution_count": 11,
   "id": "13b2579b",
   "metadata": {},
   "outputs": [
    {
     "data": {
      "text/plain": [
       "39.38226522865405"
      ]
     },
     "execution_count": 11,
     "metadata": {},
     "output_type": "execute_result"
    }
   ],
   "source": [
    "# Predict weight for a person with age 28\n",
    "model.predict([28])  "
   ]
  },
  {
   "cell_type": "markdown",
   "id": "570462e8",
   "metadata": {},
   "source": [
    "## Broadcasting"
   ]
  },
  {
   "cell_type": "code",
   "execution_count": null,
   "id": "d566c112",
   "metadata": {},
   "outputs": [],
   "source": []
  }
 ],
 "metadata": {
  "kernelspec": {
   "display_name": "Python 3 (ipykernel)",
   "language": "python",
   "name": "python3"
  },
  "language_info": {
   "codemirror_mode": {
    "name": "ipython",
    "version": 3
   },
   "file_extension": ".py",
   "mimetype": "text/x-python",
   "name": "python",
   "nbconvert_exporter": "python",
   "pygments_lexer": "ipython3",
   "version": "3.8.9"
  }
 },
 "nbformat": 4,
 "nbformat_minor": 5
}
